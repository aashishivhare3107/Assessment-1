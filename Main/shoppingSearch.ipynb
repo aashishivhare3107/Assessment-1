{
 "cells": [
  {
   "cell_type": "code",
   "execution_count": 16,
   "id": "c13a90f9",
   "metadata": {},
   "outputs": [],
   "source": [
    "import json\n",
    "\n",
    "from prettytable import PrettyTable\n",
    "from stringMatcher import levenshtein_ratio_and_distance\n",
    "from time import time\n",
    "\n",
    "table = PrettyTable(field_names=[\"orderID\", \"latest_customer_reveiw\", \"Tags\", \"Timestamp\"])"
   ]
  },
  {
   "cell_type": "markdown",
   "id": "de5070c5",
   "metadata": {},
   "source": [
    "# Load The database into the memory..."
   ]
  },
  {
   "cell_type": "code",
   "execution_count": 17,
   "id": "04dd288e",
   "metadata": {},
   "outputs": [],
   "source": [
    "data = json.load(open(\"dataStore/dataFinal.json\", \"rb\"))"
   ]
  },
  {
   "cell_type": "markdown",
   "id": "c9b440be",
   "metadata": {},
   "source": [
    "# Load the Global Secondary index in the memory...¶"
   ]
  },
  {
   "cell_type": "code",
   "execution_count": 18,
   "id": "b8e175ba",
   "metadata": {},
   "outputs": [],
   "source": [
    "GIS = json.load(open(\"dataStore/dataFinal_GIS.json\", \"rb\"))"
   ]
  },
  {
   "cell_type": "markdown",
   "id": "cdc96cab",
   "metadata": {},
   "source": [
    "# Write a function to search the items by customer_id"
   ]
  },
  {
   "cell_type": "code",
   "execution_count": 19,
   "id": "b53fa9d9",
   "metadata": {},
   "outputs": [],
   "source": [
    "def getClosestMatch(queryString):\n",
    "    # Initialize the time counter...\n",
    "    tic                  = time()\n",
    "    \n",
    "    # Find closest match of the queryString from the Global Secondary Index...\n",
    "    matchRatios          = [levenshtein_ratio_and_distance(queryString, KEY) for KEY, _ in GIS.items()]\n",
    "    bestMatchRatio       = max(matchRatios)\n",
    "\n",
    "    # If the best match ratio is less than 50% then we will assume that the records doesn't exist...\n",
    "    if (bestMatchRatio < 0.5):\n",
    "        return {\n",
    "              \"response code\" : 404,\n",
    "            \"search time\"   : f\"{time()-tic} seconds\",\n",
    "            \"message\"       : \"error\",\n",
    "            \"response body\" : \"no match found\"\n",
    "        }\n",
    "    \n",
    "    # Otherwise...\n",
    "    # Mark the search completion time...\n",
    "    toc                  = time()\n",
    "\n",
    "    # Add item customer_id to the response...\n",
    "    dirty_dataInfo[\"customer_Id\"] = bestMatch_dirty_datacustomer_id\n",
    "    # Construct the response Model...\n",
    "    responseModel = {\n",
    "        \"response code\" : 200,\n",
    "        \"search time\"   : f\"{toc-tic} seconds\",\n",
    "        \"message\"       : \"success\",\n",
    "        \"response body\" : dirty_dataInfo\n",
    "    }\n",
    "    \n",
    "    return responseModel"
   ]
  },
  {
   "cell_type": "markdown",
   "id": "f0ab7921",
   "metadata": {},
   "source": [
    "# Write a function to make a request and visualize the data returned by the search function..."
   ]
  },
  {
   "cell_type": "code",
   "execution_count": 23,
   "id": "d3b05e7c",
   "metadata": {},
   "outputs": [],
   "source": [
    "def request(itemToSearch=\"\"):\n",
    "    # Item name should always be in a string...\n",
    "    itemToSearch = str(itemToSearch)\n",
    "    # Check if the item name is valid...\n",
    "    if(itemToSearch.replace(\" \", \"\").strip() == \"\"):\n",
    "        return f\"Invalid item Name\"\n",
    "    \n",
    "    # Make a request to fetch the item info...\n",
    "    response = getClosestMatch(queryString = itemToSearch)\n",
    "\n",
    "    # Check the response code...\n",
    "    if response[\"response code\"] == 404:\n",
    "        return f\"ERROR: No records found\"\n",
    "    \n",
    "    # otherwise...\n",
    "    # Now we need to check if a user has given \n",
    "    data_to_print = f\"\\\n",
    "    customer_Id          : {response['response body']['customer_Id']}\\n\\\n",
    "    shoppingCart         : {response['response body']['shoppingCart']}\\n\\\n",
    "    is_happy_customer   : ---------------------------\\n\\\n",
    "    \"\n",
    "    print(data_to_print)\n",
    "    print(table)"
   ]
  },
  {
   "cell_type": "markdown",
   "id": "deb497ff",
   "metadata": {},
   "source": [
    "# Finally Make a request..."
   ]
  },
  {
   "cell_type": "code",
   "execution_count": null,
   "id": "86ede1f3",
   "metadata": {},
   "outputs": [],
   "source": [
    "request(itemToSearch=\"ID0282825849\")"
   ]
  }
 ],
 "metadata": {
  "kernelspec": {
   "display_name": "Python 3",
   "language": "python",
   "name": "python3"
  },
  "language_info": {
   "codemirror_mode": {
    "name": "ipython",
    "version": 3
   },
   "file_extension": ".py",
   "mimetype": "text/x-python",
   "name": "python",
   "nbconvert_exporter": "python",
   "pygments_lexer": "ipython3",
   "version": "3.8.8"
  }
 },
 "nbformat": 4,
 "nbformat_minor": 5
}
